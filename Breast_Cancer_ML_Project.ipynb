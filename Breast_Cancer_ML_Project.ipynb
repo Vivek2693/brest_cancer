{
 "cells": [
  {
   "cell_type": "markdown",
   "id": "860245aa",
   "metadata": {},
   "source": [
    "\n",
    "# Breast Cancer ML Project\n",
    "\n",
    "This notebook performs the following steps:\n",
    "1. **Exploratory Data Analysis (EDA)**\n",
    "2. **Feature Engineering**\n",
    "3. **Model Training**\n",
    "4. **Model Selection**\n",
    "\n",
    "The dataset used is the Breast Cancer dataset from `sklearn`.\n"
   ]
  },
  {
   "cell_type": "code",
   "execution_count": null,
   "id": "56fd8607",
   "metadata": {},
   "outputs": [],
   "source": [
    "\n",
    "# Load required libraries\n",
    "import pandas as pd\n",
    "from sklearn.datasets import load_breast_cancer\n",
    "\n",
    "# Load the dataset\n",
    "data = load_breast_cancer()\n",
    "df = pd.DataFrame(data.data, columns=data.feature_names)\n",
    "df[\"target\"] = data.target\n",
    "\n",
    "# Display the first few rows of the dataset\n",
    "df.head()\n"
   ]
  },
  {
   "cell_type": "markdown",
   "id": "c4f50fb7",
   "metadata": {},
   "source": [
    "\n",
    "## 1. Exploratory Data Analysis (EDA)\n",
    "\n",
    "In this section, we will:\n",
    "- Understand the data structure.\n",
    "- Check for missing values.\n",
    "- Explore feature distributions and correlations.\n"
   ]
  },
  {
   "cell_type": "code",
   "execution_count": null,
   "id": "d504ceab",
   "metadata": {},
   "outputs": [],
   "source": [
    "\n",
    "import matplotlib.pyplot as plt\n",
    "import seaborn as sns\n",
    "\n",
    "# Check for missing values\n",
    "print(\"Missing values in each column:\\n\", df.isnull().sum())\n",
    "\n",
    "# Summary statistics\n",
    "print(\"\\nSummary statistics:\\n\", df.describe())\n",
    "\n",
    "# Pairplot for selected features\n",
    "sns.pairplot(df, vars=df.columns[:5], hue=\"target\", diag_kind=\"kde\")\n",
    "plt.show()\n",
    "\n",
    "# Correlation heatmap\n",
    "plt.figure(figsize=(12, 10))\n",
    "sns.heatmap(df.corr(), annot=True, fmt=\".2f\", cmap=\"coolwarm\")\n",
    "plt.title(\"Correlation Heatmap\")\n",
    "plt.show()\n"
   ]
  },
  {
   "cell_type": "markdown",
   "id": "0d454305",
   "metadata": {},
   "source": [
    "\n",
    "## 2. Feature Engineering\n",
    "\n",
    "Here, we will:\n",
    "- Split the dataset into training and test sets.\n",
    "- Standardize the features for better model performance.\n"
   ]
  },
  {
   "cell_type": "code",
   "execution_count": null,
   "id": "fcece3a3",
   "metadata": {},
   "outputs": [],
   "source": [
    "\n",
    "from sklearn.model_selection import train_test_split\n",
    "from sklearn.preprocessing import StandardScaler\n",
    "\n",
    "# Define features and target\n",
    "X = df.drop(columns=[\"target\"])\n",
    "y = df[\"target\"]\n",
    "\n",
    "# Split into train and test sets\n",
    "X_train, X_test, y_train, y_test = train_test_split(X, y, test_size=0.2, random_state=42)\n",
    "\n",
    "# Standardize the features\n",
    "scaler = StandardScaler()\n",
    "X_train_scaled = scaler.fit_transform(X_train)\n",
    "X_test_scaled = scaler.transform(X_test)\n",
    "\n",
    "print(\"Feature engineering complete.\")\n"
   ]
  },
  {
   "cell_type": "markdown",
   "id": "bda760a2",
   "metadata": {},
   "source": [
    "\n",
    "## 3. Model Training\n",
    "\n",
    "We will train multiple models and evaluate their performance.\n"
   ]
  },
  {
   "cell_type": "code",
   "execution_count": null,
   "id": "d54a4f7c",
   "metadata": {},
   "outputs": [],
   "source": [
    "\n",
    "from sklearn.ensemble import RandomForestClassifier\n",
    "from sklearn.linear_model import LogisticRegression\n",
    "from sklearn.svm import SVC\n",
    "from sklearn.metrics import accuracy_score\n",
    "\n",
    "# Train and evaluate multiple models\n",
    "models = {\n",
    "    \"Random Forest\": RandomForestClassifier(random_state=42),\n",
    "    \"Logistic Regression\": LogisticRegression(max_iter=1000, random_state=42),\n",
    "    \"Support Vector Machine\": SVC(random_state=42)\n",
    "}\n",
    "\n",
    "accuracies = {}\n",
    "for name, model in models.items():\n",
    "    model.fit(X_train_scaled, y_train)\n",
    "    predictions = model.predict(X_test_scaled)\n",
    "    accuracy = accuracy_score(y_test, predictions)\n",
    "    accuracies[name] = accuracy\n",
    "    print(f\"{name} Accuracy: {accuracy:.4f}\")\n"
   ]
  },
  {
   "cell_type": "markdown",
   "id": "f2158783",
   "metadata": {},
   "source": [
    "\n",
    "## 4. Model Selection\n",
    "\n",
    "Based on the accuracy scores, the best-performing model will be selected.\n"
   ]
  },
  {
   "cell_type": "code",
   "execution_count": null,
   "id": "4e3cfcc2",
   "metadata": {},
   "outputs": [],
   "source": [
    "\n",
    "# Select the best model\n",
    "best_model_name = max(accuracies, key=accuracies.get)\n",
    "best_model_accuracy = accuracies[best_model_name]\n",
    "\n",
    "print(f\"The best model is {best_model_name} with an accuracy of {best_model_accuracy:.4f}.\")\n"
   ]
  }
 ],
 "metadata": {},
 "nbformat": 4,
 "nbformat_minor": 5
}